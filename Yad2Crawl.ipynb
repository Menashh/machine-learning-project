{
 "cells": [
  {
   "cell_type": "markdown",
   "id": "d125d3ea",
   "metadata": {},
   "source": [
    "קודם נריץ את התא הזה:"
   ]
  },
  {
   "cell_type": "code",
   "execution_count": null,
   "id": "cf9a3aec",
   "metadata": {},
   "outputs": [],
   "source": [
    "import selenium\n",
    "from selenium import webdriver\n",
    "from selenium.webdriver.common.keys import Keys\n",
    "from selenium.webdriver.common.by import By\n",
    "from selenium.webdriver.support.ui import WebDriverWait\n",
    "from selenium.webdriver.support import expected_conditions as EC\n",
    "import pandas as pd\n",
    "import time\n",
    "\n",
    "PATH = \"C:\\Program Files (x86)\\chromedriver.exe\"\n",
    "driver = webdriver.Chrome(PATH)\n",
    "driver.get(\"https://www.yad2.co.il/vehicles/private-cars\")\n",
    "df = pd.DataFrame()\n",
    "df"
   ]
  },
  {
   "cell_type": "markdown",
   "id": "b12c29d3",
   "metadata": {},
   "source": [
    "אחר כך נכנס לדף מסוים \n",
    "ונריץ את הקוד הזה:"
   ]
  },
  {
   "cell_type": "code",
   "execution_count": null,
   "id": "53fccd03",
   "metadata": {},
   "outputs": [],
   "source": [
    "pageList = (driver.find_elements_by_class_name(\"page-num\"))\n",
    "print (\"Number of total pages is: \")\n",
    "print(pageList[-1].text)\n",
    "maxpageNum = int(pageList[-1].text)\n",
    "mainpage = driver.find_element_by_tag_name(\"body\")\n",
    "\n",
    "for page in range (1, maxpageNum - 2):\n",
    "    try:\n",
    "        time.sleep(10)\n",
    "        # for every page do the following:\n",
    "        element = WebDriverWait(driver, 10).until(EC.presence_of_element_located((By.CLASS_NAME, \"inner_content\"))) #wait till the table is showing\n",
    "        print (\"number of page showing:\", end =\" \")\n",
    "        print(page+1)\n",
    "\n",
    "        # find all ads by xpath\n",
    "        ads = driver.find_elements_by_xpath(\"//div[@class='feeditem table']\")\n",
    "        print (\"number of ads found:\", end =\" \")\n",
    "        print(len(ads))\n",
    "\n",
    "        # did u find any ads?\n",
    "        if len(ads)==0:\n",
    "            print(\"didn't find any ads...\")\n",
    "            element = WebDriverWait(driver, 10).until(EC.presence_of_element_located((By.LINK_TEXT, \"הבא\")))\n",
    "            pageclick = driver.find_element_by_link_text(\"הבא\")\n",
    "            element.click()\n",
    "            continue\n",
    "\n",
    "        #if u did then do this:\n",
    "        else:\n",
    "            ###click on all ads\n",
    "            for ad in ads:\n",
    "                ad.click()\n",
    "                time.sleep(0.1)\n",
    "                mainpage.send_keys(Keys.PAGE_DOWN)\n",
    "                WebDriverWait(driver, 10).until(EC.presence_of_element_located((By.TAG_NAME, \"dt\")))\n",
    "                time.sleep(0.1)\n",
    "\n",
    "            try:\n",
    "                for ad in ads:\n",
    "                ### get all the fundamental vals into the singular car dictionary\n",
    "                    try:\n",
    "                    #get type\n",
    "                        car_type = ad.find_element_by_class_name(\"title\") \n",
    "                        car_dict = {}\n",
    "                        car_dict['סוג'] = car_type.text\n",
    "\n",
    "                    ##get the year, hand and volume\n",
    "\n",
    "                        element = WebDriverWait(driver, 10).until(EC.presence_of_element_located((By.CLASS_NAME, \"key\")))\n",
    "                        keys = ad.find_elements_by_class_name(\"key\")\n",
    "                        element = WebDriverWait(driver, 10).until(EC.presence_of_element_located((By.CLASS_NAME, \"val\")))\n",
    "                        vals = ad.find_elements_by_class_name(\"val\")\n",
    "\n",
    "                        for key, val in zip(keys, vals):\n",
    "                            car_dict[key.text] = val.text\n",
    "                            \n",
    "                    #get price\n",
    "                        price = ad.find_element_by_class_name(\"price\")\n",
    "                        car_dict[\"מחיר\"] = price.text\n",
    "                        \n",
    "\n",
    "                    #get all the details:\n",
    "\n",
    "                        element = WebDriverWait(driver, 20).until(EC.presence_of_element_located((By.CLASS_NAME, \"details_wrapper\")))\n",
    "                        details = ad.find_element_by_class_name(\"details_wrapper\")\n",
    "                        keys = details.find_elements_by_tag_name(\"dt\")\n",
    "                        vals = details.find_elements_by_tag_name(\"dd\")\n",
    "\n",
    "                        for key, val in zip(keys, vals):\n",
    "                            car_dict[key.text] = val.text\n",
    "\n",
    "                    #get air pollution rating\n",
    "                        try:\n",
    "                            pollution = ad.find_element_by_class_name(\"ad_pollution\")\n",
    "                            pollution_rating = pollution.find_element_by_class_name(\"selected\")\n",
    "                            car_dict[\"זיהום מירבי\"] = pollution_rating.text\n",
    "                        except:\n",
    "                            car_dict[\"זיהום מירבי\"] = \"NaN\"\n",
    "\n",
    "                    #get area\n",
    "                        upper_info = ad.find_element_by_class_name(\"upper_info\")\n",
    "                        contents = upper_info.find_elements_by_tag_name(\"div\")\n",
    "                        for content in contents:\n",
    "                            key = content.find_element_by_tag_name(\"span\")\n",
    "                            val = content.find_element_by_class_name(\"upper_info_text\")\n",
    "                            car_dict[key.text] = val.text\n",
    "\n",
    "\n",
    "                        #append the car to the dataframe\n",
    "                        df = df.append(car_dict, ignore_index=True)\n",
    "                    except:\n",
    "                        \n",
    "                        print(\"internal ad exception; skipping...\")\n",
    "                        continue\n",
    "            except:\n",
    "                print(\"external ad exception; skipping...\")\n",
    "                continue\n",
    "            print(\"DONE Page no.\", end = \" \")\n",
    "            print(page+1)\n",
    "            print(\"Number of ads scraped (approx.):\", end = \" \")\n",
    "            print(df.shape[0])\n",
    "\n",
    "            \n",
    "\n",
    "\n",
    "            element = WebDriverWait(driver, 10).until(EC.presence_of_element_located((By.LINK_TEXT, \"הבא\")))\n",
    "            pageclick = driver.find_element_by_link_text(\"הבא\")\n",
    "            element.click()\n",
    "    except:\n",
    "        print(\"page exception/CAPTCHA; sleeping and then skipping...\", end = \" \")\n",
    "        time.sleep(30)\n",
    "        element = WebDriverWait(driver, 10).until(EC.presence_of_element_located((By.LINK_TEXT, \"הבא\")))\n",
    "        pageclick = driver.find_element_by_link_text(\"הבא\")\n",
    "        element.click()\n",
    "        continue\n",
    "    \n",
    "            "
   ]
  },
  {
   "cell_type": "markdown",
   "id": "e2c0bcec",
   "metadata": {},
   "source": [
    "נריץ כדי לראות את הדאטה פריים:"
   ]
  },
  {
   "cell_type": "code",
   "execution_count": 1,
   "id": "a2d229d2",
   "metadata": {},
   "outputs": [
    {
     "ename": "NameError",
     "evalue": "name 'df' is not defined",
     "output_type": "error",
     "traceback": [
      "\u001b[1;31m---------------------------------------------------------------------------\u001b[0m",
      "\u001b[1;31mNameError\u001b[0m                                 Traceback (most recent call last)",
      "\u001b[1;32m~\\AppData\\Local\\Temp/ipykernel_2972/1396537375.py\u001b[0m in \u001b[0;36m<module>\u001b[1;34m\u001b[0m\n\u001b[1;32m----> 1\u001b[1;33m \u001b[0mdf\u001b[0m\u001b[1;33m\u001b[0m\u001b[1;33m\u001b[0m\u001b[0m\n\u001b[0m",
      "\u001b[1;31mNameError\u001b[0m: name 'df' is not defined"
     ]
    }
   ],
   "source": [
    "df"
   ]
  },
  {
   "cell_type": "markdown",
   "id": "5daacb55",
   "metadata": {},
   "source": [
    "בסיום כל ריצה תשמור את הדאטה פריים לקובץ אקסל:"
   ]
  },
  {
   "cell_type": "code",
   "execution_count": null,
   "id": "2219fe8a",
   "metadata": {},
   "outputs": [],
   "source": [
    "df.to_csv(\"Yad2Crawler99.csv\")"
   ]
  },
  {
   "cell_type": "markdown",
   "id": "e755b3ac",
   "metadata": {},
   "source": []
  }
 ],
 "metadata": {
  "kernelspec": {
   "display_name": "Python 3",
   "language": "python",
   "name": "python3"
  },
  "language_info": {
   "codemirror_mode": {
    "name": "ipython",
    "version": 3
   },
   "file_extension": ".py",
   "mimetype": "text/x-python",
   "name": "python",
   "nbconvert_exporter": "python",
   "pygments_lexer": "ipython3",
   "version": "3.8.8"
  }
 },
 "nbformat": 4,
 "nbformat_minor": 5
}
